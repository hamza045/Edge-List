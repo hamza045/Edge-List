{
 "cells": [
  {
   "cell_type": "code",
   "execution_count": 1,
   "metadata": {},
   "outputs": [
    {
     "name": "stdout",
     "output_type": "stream",
     "text": [
      "<class '_io.TextIOWrapper'>\n"
     ]
    }
   ],
   "source": [
    "#CODE THAT CONVERTED THE EDGE LIST \n",
    "\n",
    "file = 'busstops0.txt'\n",
    "\n",
    "with open(file, mode = 'r') as myfile:\n",
    "    print(type(myfile))\n",
    "    EX = list(myfile)\n",
    "\n",
    "\n",
    "with open('OUTFILE.csv', mode = 'w+') as output:\n",
    "    for v in EX:\n",
    "        try:\n",
    "            ls = v.split(',')\n",
    "            for index, value in enumerate(ls):\n",
    "\n",
    "                f = value+ '\\t'+ ls[index+1] + '\\n'\n",
    "\n",
    "                output.writelines(f)\n",
    "            output.writelines('\\n\\n')\n",
    "        except:\n",
    "            pass\n",
    "        \n"
   ]
  },
  {
   "cell_type": "code",
   "execution_count": null,
   "metadata": {},
   "outputs": [],
   "source": [
    "#GRAPH DISPLAY\n",
    "import networkx as nx\n",
    "import matplotlib.pyplot as plt\n",
    "import numpy as np\n",
    "from networkx.algorithms import community\n",
    "\n",
    "# read edge list\n",
    "g = nx.read_edgelist(\"C:/Users/aayesha/Desktop/DiscreteProject/OUTFILE.txt\")\n",
    "ug = nx.to_undirected(g)\n",
    "\n",
    "# print basic info (is the graph ok?)\n",
    "print(nx.info(ug))\n",
    "\n",
    "# basic analysis\n",
    "\n",
    "# number of nodes\n",
    "print(\"number of nodes:\",nx.number_of_nodes(ug))\n",
    "\n",
    "#number of edges\n",
    "print(\"number of edges:\",nx.number_of_edges(ug))\n",
    "\n",
    "#average clustering\n",
    "print(nx.average_clustering(ug))\n",
    "\n",
    "## diameter\n",
    "#print(\"Diameter:\",nx.diameter(ug))\n",
    "# this diameter shows ...\n",
    "\n",
    "# average degree\n",
    "sum = 0\n",
    "for n in ug.nodes():\n",
    "    sum = sum + ug.degree(n)\n",
    "print(\"Average degree:\", sum/ug.number_of_nodes())\n",
    "\n",
    "options = {\n",
    "    'node_color': 'green',\n",
    "    'node_size': 12,\n",
    "    'line_color': 'black',\n",
    "    'linewidths': 0,\n",
    "    'width': 1,\n",
    "}\n",
    "nx.draw(ug,with_labels= True,**options)\n",
    "plt.show()\n",
    "\n"
   ]
  },
  {
   "cell_type": "code",
   "execution_count": null,
   "metadata": {},
   "outputs": [],
   "source": []
  }
 ],
 "metadata": {
  "kernelspec": {
   "display_name": "Python 3",
   "language": "python",
   "name": "python3"
  },
  "language_info": {
   "codemirror_mode": {
    "name": "ipython",
    "version": 3
   },
   "file_extension": ".py",
   "mimetype": "text/x-python",
   "name": "python",
   "nbconvert_exporter": "python",
   "pygments_lexer": "ipython3",
   "version": "3.7.0"
  }
 },
 "nbformat": 4,
 "nbformat_minor": 2
}
